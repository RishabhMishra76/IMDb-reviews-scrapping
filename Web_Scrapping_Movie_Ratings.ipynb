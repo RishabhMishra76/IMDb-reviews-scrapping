{
  "nbformat": 4,
  "nbformat_minor": 0,
  "metadata": {
    "colab": {
      "name": "Web_Scrapping_Movie_Ratings.ipynb",
      "provenance": [],
      "collapsed_sections": []
    },
    "kernelspec": {
      "name": "python3",
      "display_name": "Python 3"
    }
  },
  "cells": [
    {
      "cell_type": "code",
      "metadata": {
        "id": "htfy-4lfL9Gu",
        "outputId": "2b6f69ce-d022-4838-a48f-ab577520f90c",
        "colab": {
          "base_uri": "https://localhost:8080/"
        }
      },
      "source": [
        "# Import request library to make requests in HTTP format\n",
        "from requests import get\n",
        "# To get only english language domain movies\n",
        "headers = {\"Accept-Language\": \"en-US, en;q=0.5\"}\n",
        "url = 'http://www.imdb.com/search/title?release_date=2017&sort=num_votes,desc&page=1'\n",
        "response = get(url, headers = headers)\n",
        "# response.text or response.content to display the requested HTTP format\n",
        "print(response.text[:500])"
      ],
      "execution_count": 1,
      "outputs": [
        {
          "output_type": "stream",
          "text": [
            "\n",
            "\n",
            "<!DOCTYPE html>\n",
            "<html\n",
            "    xmlns:og=\"http://ogp.me/ns#\"\n",
            "    xmlns:fb=\"http://www.facebook.com/2008/fbml\">\n",
            "    <head>\n",
            "         \n",
            "        <meta charset=\"utf-8\">\n",
            "        <meta http-equiv=\"X-UA-Compatible\" content=\"IE=edge\">\n",
            "\n",
            "    <meta name=\"apple-itunes-app\" content=\"app-id=342792525, app-argument=imdb:///?src=mdot\">\n",
            "\n",
            "\n",
            "\n",
            "        <script type=\"text/javascript\">var IMDbTimer={starttime: new Date().getTime(),pt:'java'};</script>\n",
            "\n",
            "<script>\n",
            "    if (typeof uet == 'function') {\n",
            "      uet(\"bb\", \"LoadTitle\",\n"
          ],
          "name": "stdout"
        }
      ]
    },
    {
      "cell_type": "code",
      "metadata": {
        "id": "hYnDalNAMLI6",
        "outputId": "300dd673-cf20-4418-8ff0-49345b874392",
        "colab": {
          "base_uri": "https://localhost:8080/"
        }
      },
      "source": [
        "# import beutifulsoup for parsing the html document received\n",
        "from bs4 import BeautifulSoup\n",
        "# 'html.parser' is the builtin html parser of python\n",
        "html_soup = BeautifulSoup(response.text, 'html.parser')\n",
        "type(html_soup)"
      ],
      "execution_count": 2,
      "outputs": [
        {
          "output_type": "execute_result",
          "data": {
            "text/plain": [
              "bs4.BeautifulSoup"
            ]
          },
          "metadata": {
            "tags": []
          },
          "execution_count": 2
        }
      ]
    },
    {
      "cell_type": "code",
      "metadata": {
        "id": "gLt1NX7jMTQr",
        "outputId": "4356693a-2f96-40f2-f090-b74486f5c421",
        "colab": {
          "base_uri": "https://localhost:8080/"
        }
      },
      "source": [
        "# inspect the elements of IMDB page and abtract the 50 reviews in one page using the div tag\n",
        "# 'lister-item mode-advanced' is the div tag specific to reviews\n",
        "movie_containers = html_soup.find_all('div', class_ = 'lister-item mode-advanced')\n",
        "print(type(movie_containers))\n",
        "print(len(movie_containers))"
      ],
      "execution_count": 3,
      "outputs": [
        {
          "output_type": "stream",
          "text": [
            "<class 'bs4.element.ResultSet'>\n",
            "50\n"
          ],
          "name": "stdout"
        }
      ]
    },
    {
      "cell_type": "code",
      "metadata": {
        "id": "zsvGx-E-MXx_",
        "outputId": "ad7a8e54-1136-48a1-a31b-86604d3aaeda",
        "colab": {
          "base_uri": "https://localhost:8080/"
        }
      },
      "source": [
        "# printing the html for first movie\n",
        "first_movie = movie_containers[0]\n",
        "first_movie"
      ],
      "execution_count": 4,
      "outputs": [
        {
          "output_type": "execute_result",
          "data": {
            "text/plain": [
              "<div class=\"lister-item mode-advanced\">\n",
              "<div class=\"lister-top-right\">\n",
              "<div class=\"ribbonize\" data-caller=\"filmosearch\" data-tconst=\"tt3315342\"></div>\n",
              "</div>\n",
              "<div class=\"lister-item-image float-left\">\n",
              "<a href=\"/title/tt3315342/\"> <img alt=\"Logan\" class=\"loadlate\" data-tconst=\"tt3315342\" height=\"98\" loadlate=\"https://m.media-amazon.com/images/M/MV5BYzc5MTU4N2EtYTkyMi00NjdhLTg3NWEtMTY4OTEyMzJhZTAzXkEyXkFqcGdeQXVyNjc1NTYyMjg@._V1_UX67_CR0,0,67,98_AL_.jpg\" src=\"https://m.media-amazon.com/images/G/01/imdb/images/nopicture/large/film-184890147._CB466725069_.png\" width=\"67\"/>\n",
              "</a> </div>\n",
              "<div class=\"lister-item-content\">\n",
              "<h3 class=\"lister-item-header\">\n",
              "<span class=\"lister-item-index unbold text-primary\">1.</span>\n",
              "<a href=\"/title/tt3315342/\">Logan</a>\n",
              "<span class=\"lister-item-year text-muted unbold\">(2017)</span>\n",
              "</h3>\n",
              "<p class=\"text-muted \">\n",
              "<span class=\"certificate\">R</span>\n",
              "<span class=\"ghost\">|</span>\n",
              "<span class=\"runtime\">137 min</span>\n",
              "<span class=\"ghost\">|</span>\n",
              "<span class=\"genre\">\n",
              "Action, Drama, Sci-Fi            </span>\n",
              "</p>\n",
              "<div class=\"ratings-bar\">\n",
              "<div class=\"inline-block ratings-imdb-rating\" data-value=\"8.1\" name=\"ir\">\n",
              "<span class=\"global-sprite rating-star imdb-rating\"></span>\n",
              "<strong>8.1</strong>\n",
              "</div>\n",
              "<div class=\"inline-block ratings-user-rating\">\n",
              "<span class=\"userRatingValue\" data-tconst=\"tt3315342\" id=\"urv_tt3315342\">\n",
              "<span class=\"global-sprite rating-star no-rating\"></span>\n",
              "<span class=\"rate\" data-no-rating=\"Rate this\" data-value=\"0\" name=\"ur\">Rate this</span>\n",
              "</span>\n",
              "<div class=\"starBarWidget\" id=\"sb_tt3315342\">\n",
              "<div class=\"rating rating-list\" data-auth=\"\" data-ga-identifier=\"\" data-starbar-class=\"rating-list\" data-user=\"\" id=\"tt3315342|imdb|8.1|8.1|adv_li_tt||advsearch|title\" itemprop=\"aggregateRating\" itemscope=\"\" itemtype=\"http://schema.org/AggregateRating\" title=\"Users rated this 8.1/10 (634,540 votes) - click stars to rate\">\n",
              "<meta content=\"8.1\" itemprop=\"ratingValue\"/>\n",
              "<meta content=\"10\" itemprop=\"bestRating\"/>\n",
              "<meta content=\"634540\" itemprop=\"ratingCount\"/>\n",
              "<span class=\"rating-bg\"> </span>\n",
              "<span class=\"rating-imdb \" style=\"width: 113.4px\"> </span>\n",
              "<span class=\"rating-stars\">\n",
              "<a href=\"/register/login?why=vote\" rel=\"nofollow\" title=\"Register or login to rate this title\"><span>1</span></a>\n",
              "<a href=\"/register/login?why=vote\" rel=\"nofollow\" title=\"Register or login to rate this title\"><span>2</span></a>\n",
              "<a href=\"/register/login?why=vote\" rel=\"nofollow\" title=\"Register or login to rate this title\"><span>3</span></a>\n",
              "<a href=\"/register/login?why=vote\" rel=\"nofollow\" title=\"Register or login to rate this title\"><span>4</span></a>\n",
              "<a href=\"/register/login?why=vote\" rel=\"nofollow\" title=\"Register or login to rate this title\"><span>5</span></a>\n",
              "<a href=\"/register/login?why=vote\" rel=\"nofollow\" title=\"Register or login to rate this title\"><span>6</span></a>\n",
              "<a href=\"/register/login?why=vote\" rel=\"nofollow\" title=\"Register or login to rate this title\"><span>7</span></a>\n",
              "<a href=\"/register/login?why=vote\" rel=\"nofollow\" title=\"Register or login to rate this title\"><span>8</span></a>\n",
              "<a href=\"/register/login?why=vote\" rel=\"nofollow\" title=\"Register or login to rate this title\"><span>9</span></a>\n",
              "<a href=\"/register/login?why=vote\" rel=\"nofollow\" title=\"Register or login to rate this title\"><span>10</span></a>\n",
              "</span>\n",
              "<span class=\"rating-rating \"><span class=\"value\">8.1</span><span class=\"grey\">/</span><span class=\"grey\">10</span></span>\n",
              "<span class=\"rating-cancel \"><a href=\"/title/tt3315342/vote?v=X;k=\" rel=\"nofollow\" title=\"Delete\"><span>X</span></a></span>\n",
              " </div>\n",
              "</div>\n",
              "</div>\n",
              "<div class=\"inline-block ratings-metascore\">\n",
              "<span class=\"metascore favorable\">77        </span>\n",
              "        Metascore\n",
              "            </div>\n",
              "</div>\n",
              "<p class=\"text-muted\">\n",
              "    In a future where mutants are nearly extinct, an elderly and weary Logan leads a quiet life. But when Laura, a mutant child pursued by scientists, comes to him for help, he must get her to safety.</p>\n",
              "<p class=\"\">\n",
              "    Director:\n",
              "<a href=\"/name/nm0003506/\">James Mangold</a>\n",
              "<span class=\"ghost\">|</span> \n",
              "    Stars:\n",
              "<a href=\"/name/nm0413168/\">Hugh Jackman</a>, \n",
              "<a href=\"/name/nm0001772/\">Patrick Stewart</a>, \n",
              "<a href=\"/name/nm6748436/\">Dafne Keen</a>, \n",
              "<a href=\"/name/nm2933542/\">Boyd Holbrook</a>\n",
              "</p>\n",
              "<p class=\"sort-num_votes-visible\">\n",
              "<span class=\"text-muted\">Votes:</span>\n",
              "<span data-value=\"634540\" name=\"nv\">634,540</span>\n",
              "<span class=\"ghost\">|</span> <span class=\"text-muted\">Gross:</span>\n",
              "<span data-value=\"226,277,068\" name=\"nv\">$226.28M</span>\n",
              "</p>\n",
              "</div>\n",
              "</div>"
            ]
          },
          "metadata": {
            "tags": []
          },
          "execution_count": 4
        }
      ]
    },
    {
      "cell_type": "code",
      "metadata": {
        "id": "wIbfE4QQMavs",
        "outputId": "ccf0bd2e-e516-4c5f-e1d2-487d751493fd",
        "colab": {
          "base_uri": "https://localhost:8080/"
        }
      },
      "source": [
        "# exploring the first movie tags to get the movie name and release year\n",
        "first_movie.div"
      ],
      "execution_count": 5,
      "outputs": [
        {
          "output_type": "execute_result",
          "data": {
            "text/plain": [
              "<div class=\"lister-top-right\">\n",
              "<div class=\"ribbonize\" data-caller=\"filmosearch\" data-tconst=\"tt3315342\"></div>\n",
              "</div>"
            ]
          },
          "metadata": {
            "tags": []
          },
          "execution_count": 5
        }
      ]
    },
    {
      "cell_type": "code",
      "metadata": {
        "id": "PDZpr8rIMnc1",
        "outputId": "275ef8ad-06dc-490e-ebd1-f21c8fe358dd",
        "colab": {
          "base_uri": "https://localhost:8080/"
        }
      },
      "source": [
        "first_movie.a"
      ],
      "execution_count": 6,
      "outputs": [
        {
          "output_type": "execute_result",
          "data": {
            "text/plain": [
              "<a href=\"/title/tt3315342/\"> <img alt=\"Logan\" class=\"loadlate\" data-tconst=\"tt3315342\" height=\"98\" loadlate=\"https://m.media-amazon.com/images/M/MV5BYzc5MTU4N2EtYTkyMi00NjdhLTg3NWEtMTY4OTEyMzJhZTAzXkEyXkFqcGdeQXVyNjc1NTYyMjg@._V1_UX67_CR0,0,67,98_AL_.jpg\" src=\"https://m.media-amazon.com/images/G/01/imdb/images/nopicture/large/film-184890147._CB466725069_.png\" width=\"67\"/>\n",
              "</a>"
            ]
          },
          "metadata": {
            "tags": []
          },
          "execution_count": 6
        }
      ]
    },
    {
      "cell_type": "code",
      "metadata": {
        "id": "EVpAxzSWMqZu",
        "outputId": "52f37c8c-2183-4a36-f156-64fe0b66209f",
        "colab": {
          "base_uri": "https://localhost:8080/"
        }
      },
      "source": [
        "# h3 contains both movie name and release year\n",
        "first_movie.h3"
      ],
      "execution_count": 7,
      "outputs": [
        {
          "output_type": "execute_result",
          "data": {
            "text/plain": [
              "<h3 class=\"lister-item-header\">\n",
              "<span class=\"lister-item-index unbold text-primary\">1.</span>\n",
              "<a href=\"/title/tt3315342/\">Logan</a>\n",
              "<span class=\"lister-item-year text-muted unbold\">(2017)</span>\n",
              "</h3>"
            ]
          },
          "metadata": {
            "tags": []
          },
          "execution_count": 7
        }
      ]
    },
    {
      "cell_type": "code",
      "metadata": {
        "id": "yTxQyOWdMwEd",
        "outputId": "2fc4556a-ea3d-4008-9479-e15e56e51d49",
        "colab": {
          "base_uri": "https://localhost:8080/"
        }
      },
      "source": [
        "first_movie.h3.a"
      ],
      "execution_count": 8,
      "outputs": [
        {
          "output_type": "execute_result",
          "data": {
            "text/plain": [
              "<a href=\"/title/tt3315342/\">Logan</a>"
            ]
          },
          "metadata": {
            "tags": []
          },
          "execution_count": 8
        }
      ]
    },
    {
      "cell_type": "code",
      "metadata": {
        "id": "Xa-xuzLCMzZk",
        "outputId": "07bf9edf-5828-4987-8157-a0de3d35b036",
        "colab": {
          "base_uri": "https://localhost:8080/",
          "height": 35
        }
      },
      "source": [
        "# movie name is in the h3 -> a -> text\n",
        "first_name = first_movie.h3.a.text\n",
        "first_name"
      ],
      "execution_count": 9,
      "outputs": [
        {
          "output_type": "execute_result",
          "data": {
            "application/vnd.google.colaboratory.intrinsic+json": {
              "type": "string"
            },
            "text/plain": [
              "'Logan'"
            ]
          },
          "metadata": {
            "tags": []
          },
          "execution_count": 9
        }
      ]
    },
    {
      "cell_type": "code",
      "metadata": {
        "id": "Aet_Ey1aM24l",
        "outputId": "8a5756e2-5f1a-4a9b-a9eb-186e8f2a19d4",
        "colab": {
          "base_uri": "https://localhost:8080/"
        }
      },
      "source": [
        "# format for year \n",
        "first_year = first_movie.h3.find('span', class_ = 'lister-item-year text-muted unbold')\n",
        "first_year"
      ],
      "execution_count": 10,
      "outputs": [
        {
          "output_type": "execute_result",
          "data": {
            "text/plain": [
              "<span class=\"lister-item-year text-muted unbold\">(2017)</span>"
            ]
          },
          "metadata": {
            "tags": []
          },
          "execution_count": 10
        }
      ]
    },
    {
      "cell_type": "code",
      "metadata": {
        "id": "h9mgqZg6M6k1",
        "outputId": "c277c276-c423-4fa8-f0fd-ebf62b347fa6",
        "colab": {
          "base_uri": "https://localhost:8080/",
          "height": 35
        }
      },
      "source": [
        "# Scrapping the year\n",
        "first_year = first_year.text\n",
        "first_year"
      ],
      "execution_count": 11,
      "outputs": [
        {
          "output_type": "execute_result",
          "data": {
            "application/vnd.google.colaboratory.intrinsic+json": {
              "type": "string"
            },
            "text/plain": [
              "'(2017)'"
            ]
          },
          "metadata": {
            "tags": []
          },
          "execution_count": 11
        }
      ]
    },
    {
      "cell_type": "code",
      "metadata": {
        "id": "ek8JVajSM-8k",
        "outputId": "5689ad73-cf9c-4d58-957b-755e7749330f",
        "colab": {
          "base_uri": "https://localhost:8080/"
        }
      },
      "source": [
        "first_movie.strong"
      ],
      "execution_count": 12,
      "outputs": [
        {
          "output_type": "execute_result",
          "data": {
            "text/plain": [
              "<strong>8.1</strong>"
            ]
          },
          "metadata": {
            "tags": []
          },
          "execution_count": 12
        }
      ]
    },
    {
      "cell_type": "code",
      "metadata": {
        "id": "Yjn3bgMyNC2D",
        "outputId": "032f6184-7a12-4051-bab1-cb97f1d9e524",
        "colab": {
          "base_uri": "https://localhost:8080/"
        }
      },
      "source": [
        "# Scrapping IMDB score for the movie\n",
        "first_imdb = float(first_movie.strong.text)\n",
        "first_imdb"
      ],
      "execution_count": 13,
      "outputs": [
        {
          "output_type": "execute_result",
          "data": {
            "text/plain": [
              "8.1"
            ]
          },
          "metadata": {
            "tags": []
          },
          "execution_count": 13
        }
      ]
    },
    {
      "cell_type": "code",
      "metadata": {
        "id": "XXJNFGiHNj0F",
        "outputId": "e8120aef-6545-41dc-a5b7-2902b779e171",
        "colab": {
          "base_uri": "https://localhost:8080/"
        }
      },
      "source": [
        "# Scrapping metacritic score for the movie\n",
        "first_mscore = first_movie.find('span', class_ = 'metascore favorable')\n",
        "first_mscore = int(first_mscore.text)\n",
        "print(first_mscore)"
      ],
      "execution_count": 14,
      "outputs": [
        {
          "output_type": "stream",
          "text": [
            "77\n"
          ],
          "name": "stdout"
        }
      ]
    },
    {
      "cell_type": "code",
      "metadata": {
        "id": "0T3pCycDNuo7",
        "outputId": "9cd76a44-7f75-41e9-8330-d42fd4b774fe",
        "colab": {
          "base_uri": "https://localhost:8080/"
        }
      },
      "source": [
        "# span tag 'nv' is for the number of votes\n",
        "first_votes = first_movie.find('span', attrs = {'name':'nv'})\n",
        "first_votes"
      ],
      "execution_count": 15,
      "outputs": [
        {
          "output_type": "execute_result",
          "data": {
            "text/plain": [
              "<span data-value=\"634540\" name=\"nv\">634,540</span>"
            ]
          },
          "metadata": {
            "tags": []
          },
          "execution_count": 15
        }
      ]
    },
    {
      "cell_type": "code",
      "metadata": {
        "id": "oJ4-WD56Ny0l",
        "outputId": "f630bcbe-3170-4d04-e75d-0ea4e6414ace",
        "colab": {
          "base_uri": "https://localhost:8080/"
        }
      },
      "source": [
        "# Scrapping number of votes for movie\n",
        "first_votes['data-value']\n",
        "first_votes = int(first_votes['data-value'])\n",
        "first_votes"
      ],
      "execution_count": 16,
      "outputs": [
        {
          "output_type": "execute_result",
          "data": {
            "text/plain": [
              "634540"
            ]
          },
          "metadata": {
            "tags": []
          },
          "execution_count": 16
        }
      ]
    },
    {
      "cell_type": "code",
      "metadata": {
        "id": "Mn0yGMPEOuPm",
        "outputId": "a2967027-5095-41ad-a8f2-b66a8b6a5186",
        "colab": {
          "base_uri": "https://localhost:8080/"
        }
      },
      "source": [
        "# Some movies are missing the metacritic score\n",
        "eighth_movie_mscore = movie_containers[17].find('div', class_ = 'ratings-metascore')\n",
        "type(eighth_movie_mscore)\n",
        "# We will drop the movies which don't have metacritic score"
      ],
      "execution_count": 17,
      "outputs": [
        {
          "output_type": "execute_result",
          "data": {
            "text/plain": [
              "NoneType"
            ]
          },
          "metadata": {
            "tags": []
          },
          "execution_count": 17
        }
      ]
    },
    {
      "cell_type": "code",
      "metadata": {
        "id": "c0nri9lHO1tn"
      },
      "source": [
        "# Lists to store the scraped data in\n",
        "names = []\n",
        "years = []\n",
        "imdb_ratings = []\n",
        "metascores = []\n",
        "votes = []\n",
        "# Extract data from individual movie container\n",
        "for container in movie_containers:\n",
        "# If the movie has Metascore, then extract:\n",
        "    if container.find('div', class_ = 'ratings-metascore') is not None:\n",
        "  # The name\n",
        "      name = container.h3.a.text\n",
        "      names.append(name)\n",
        "  # The year\n",
        "      year = container.h3.find('span', class_ = 'lister-item-year').text\n",
        "      years.append(year)\n",
        "  # The IMDB rating\n",
        "      imdb = float(container.strong.text)\n",
        "      imdb_ratings.append(imdb)\n",
        "  # The Metascore\n",
        "      m_score = container.find('span', class_ = 'metascore').text\n",
        "      metascores.append(int(m_score))\n",
        "  # The number of votes\n",
        "      vote = container.find('span', attrs = {'name':'nv'})['data-value']\n",
        "      votes.append(int(vote))"
      ],
      "execution_count": 18,
      "outputs": []
    },
    {
      "cell_type": "code",
      "metadata": {
        "id": "d5Vf18WdPJO_",
        "outputId": "0d545576-22b3-43b4-8fad-87d5955756e3",
        "colab": {
          "base_uri": "https://localhost:8080/",
          "height": 1000
        }
      },
      "source": [
        "# Displaying the scraped list of movies as dataframes using panda library\n",
        "import pandas as pd\n",
        "test_df = pd.DataFrame({'movie': names,\n",
        "'year': years,\n",
        "'imdb': imdb_ratings,\n",
        "'metascore': metascores,\n",
        "'votes': votes\n",
        "})\n",
        "print(test_df.info())\n",
        "test_df"
      ],
      "execution_count": 19,
      "outputs": [
        {
          "output_type": "stream",
          "text": [
            "<class 'pandas.core.frame.DataFrame'>\n",
            "RangeIndex: 42 entries, 0 to 41\n",
            "Data columns (total 5 columns):\n",
            " #   Column     Non-Null Count  Dtype  \n",
            "---  ------     --------------  -----  \n",
            " 0   movie      42 non-null     object \n",
            " 1   year       42 non-null     object \n",
            " 2   imdb       42 non-null     float64\n",
            " 3   metascore  42 non-null     int64  \n",
            " 4   votes      42 non-null     int64  \n",
            "dtypes: float64(1), int64(2), object(2)\n",
            "memory usage: 1.8+ KB\n",
            "None\n"
          ],
          "name": "stdout"
        },
        {
          "output_type": "execute_result",
          "data": {
            "text/html": [
              "<div>\n",
              "<style scoped>\n",
              "    .dataframe tbody tr th:only-of-type {\n",
              "        vertical-align: middle;\n",
              "    }\n",
              "\n",
              "    .dataframe tbody tr th {\n",
              "        vertical-align: top;\n",
              "    }\n",
              "\n",
              "    .dataframe thead th {\n",
              "        text-align: right;\n",
              "    }\n",
              "</style>\n",
              "<table border=\"1\" class=\"dataframe\">\n",
              "  <thead>\n",
              "    <tr style=\"text-align: right;\">\n",
              "      <th></th>\n",
              "      <th>movie</th>\n",
              "      <th>year</th>\n",
              "      <th>imdb</th>\n",
              "      <th>metascore</th>\n",
              "      <th>votes</th>\n",
              "    </tr>\n",
              "  </thead>\n",
              "  <tbody>\n",
              "    <tr>\n",
              "      <th>0</th>\n",
              "      <td>Logan</td>\n",
              "      <td>(2017)</td>\n",
              "      <td>8.1</td>\n",
              "      <td>77</td>\n",
              "      <td>634540</td>\n",
              "    </tr>\n",
              "    <tr>\n",
              "      <th>1</th>\n",
              "      <td>Thor: Ragnarok</td>\n",
              "      <td>(2017)</td>\n",
              "      <td>7.9</td>\n",
              "      <td>74</td>\n",
              "      <td>572574</td>\n",
              "    </tr>\n",
              "    <tr>\n",
              "      <th>2</th>\n",
              "      <td>Guardians of the Galaxy Vol. 2</td>\n",
              "      <td>(2017)</td>\n",
              "      <td>7.6</td>\n",
              "      <td>67</td>\n",
              "      <td>557001</td>\n",
              "    </tr>\n",
              "    <tr>\n",
              "      <th>3</th>\n",
              "      <td>Star Wars: Episode VIII - The Last Jedi</td>\n",
              "      <td>(2017)</td>\n",
              "      <td>7.0</td>\n",
              "      <td>84</td>\n",
              "      <td>552826</td>\n",
              "    </tr>\n",
              "    <tr>\n",
              "      <th>4</th>\n",
              "      <td>Wonder Woman</td>\n",
              "      <td>(2017)</td>\n",
              "      <td>7.4</td>\n",
              "      <td>76</td>\n",
              "      <td>540860</td>\n",
              "    </tr>\n",
              "    <tr>\n",
              "      <th>5</th>\n",
              "      <td>Dunkirk</td>\n",
              "      <td>(2017)</td>\n",
              "      <td>7.9</td>\n",
              "      <td>94</td>\n",
              "      <td>540411</td>\n",
              "    </tr>\n",
              "    <tr>\n",
              "      <th>6</th>\n",
              "      <td>Spider-Man: Homecoming</td>\n",
              "      <td>(2017)</td>\n",
              "      <td>7.4</td>\n",
              "      <td>73</td>\n",
              "      <td>500073</td>\n",
              "    </tr>\n",
              "    <tr>\n",
              "      <th>7</th>\n",
              "      <td>Get Out</td>\n",
              "      <td>(I) (2017)</td>\n",
              "      <td>7.7</td>\n",
              "      <td>85</td>\n",
              "      <td>479984</td>\n",
              "    </tr>\n",
              "    <tr>\n",
              "      <th>8</th>\n",
              "      <td>It</td>\n",
              "      <td>(I) (2017)</td>\n",
              "      <td>7.3</td>\n",
              "      <td>69</td>\n",
              "      <td>449432</td>\n",
              "    </tr>\n",
              "    <tr>\n",
              "      <th>9</th>\n",
              "      <td>Blade Runner 2049</td>\n",
              "      <td>(2017)</td>\n",
              "      <td>8.0</td>\n",
              "      <td>81</td>\n",
              "      <td>448670</td>\n",
              "    </tr>\n",
              "    <tr>\n",
              "      <th>10</th>\n",
              "      <td>Baby Driver</td>\n",
              "      <td>(2017)</td>\n",
              "      <td>7.6</td>\n",
              "      <td>86</td>\n",
              "      <td>428371</td>\n",
              "    </tr>\n",
              "    <tr>\n",
              "      <th>11</th>\n",
              "      <td>Three Billboards Outside Ebbing, Missouri</td>\n",
              "      <td>(2017)</td>\n",
              "      <td>8.2</td>\n",
              "      <td>88</td>\n",
              "      <td>418497</td>\n",
              "    </tr>\n",
              "    <tr>\n",
              "      <th>12</th>\n",
              "      <td>Justice League</td>\n",
              "      <td>(2017)</td>\n",
              "      <td>6.3</td>\n",
              "      <td>45</td>\n",
              "      <td>375370</td>\n",
              "    </tr>\n",
              "    <tr>\n",
              "      <th>13</th>\n",
              "      <td>The Shape of Water</td>\n",
              "      <td>(2017)</td>\n",
              "      <td>7.3</td>\n",
              "      <td>87</td>\n",
              "      <td>361819</td>\n",
              "    </tr>\n",
              "    <tr>\n",
              "      <th>14</th>\n",
              "      <td>Coco</td>\n",
              "      <td>(I) (2017)</td>\n",
              "      <td>8.4</td>\n",
              "      <td>81</td>\n",
              "      <td>361773</td>\n",
              "    </tr>\n",
              "    <tr>\n",
              "      <th>15</th>\n",
              "      <td>John Wick: Chapter 2</td>\n",
              "      <td>(2017)</td>\n",
              "      <td>7.5</td>\n",
              "      <td>75</td>\n",
              "      <td>356698</td>\n",
              "    </tr>\n",
              "    <tr>\n",
              "      <th>16</th>\n",
              "      <td>Jumanji: Welcome to the Jungle</td>\n",
              "      <td>(2017)</td>\n",
              "      <td>6.9</td>\n",
              "      <td>58</td>\n",
              "      <td>312498</td>\n",
              "    </tr>\n",
              "    <tr>\n",
              "      <th>17</th>\n",
              "      <td>Beauty and the Beast</td>\n",
              "      <td>(I) (2017)</td>\n",
              "      <td>7.1</td>\n",
              "      <td>65</td>\n",
              "      <td>268020</td>\n",
              "    </tr>\n",
              "    <tr>\n",
              "      <th>18</th>\n",
              "      <td>Kingsman: The Golden Circle</td>\n",
              "      <td>(2017)</td>\n",
              "      <td>6.7</td>\n",
              "      <td>44</td>\n",
              "      <td>267000</td>\n",
              "    </tr>\n",
              "    <tr>\n",
              "      <th>19</th>\n",
              "      <td>Kong: Skull Island</td>\n",
              "      <td>(2017)</td>\n",
              "      <td>6.6</td>\n",
              "      <td>62</td>\n",
              "      <td>264164</td>\n",
              "    </tr>\n",
              "    <tr>\n",
              "      <th>20</th>\n",
              "      <td>Pirates of the Caribbean: Dead Men Tell No Tales</td>\n",
              "      <td>(2017)</td>\n",
              "      <td>6.6</td>\n",
              "      <td>39</td>\n",
              "      <td>257541</td>\n",
              "    </tr>\n",
              "    <tr>\n",
              "      <th>21</th>\n",
              "      <td>Alien: Covenant</td>\n",
              "      <td>(2017)</td>\n",
              "      <td>6.4</td>\n",
              "      <td>65</td>\n",
              "      <td>250490</td>\n",
              "    </tr>\n",
              "    <tr>\n",
              "      <th>22</th>\n",
              "      <td>Lady Bird</td>\n",
              "      <td>(2017)</td>\n",
              "      <td>7.4</td>\n",
              "      <td>94</td>\n",
              "      <td>233801</td>\n",
              "    </tr>\n",
              "    <tr>\n",
              "      <th>23</th>\n",
              "      <td>The Greatest Showman</td>\n",
              "      <td>(2017)</td>\n",
              "      <td>7.6</td>\n",
              "      <td>48</td>\n",
              "      <td>230683</td>\n",
              "    </tr>\n",
              "    <tr>\n",
              "      <th>24</th>\n",
              "      <td>War for the Planet of the Apes</td>\n",
              "      <td>(2017)</td>\n",
              "      <td>7.4</td>\n",
              "      <td>82</td>\n",
              "      <td>224174</td>\n",
              "    </tr>\n",
              "    <tr>\n",
              "      <th>25</th>\n",
              "      <td>Murder on the Orient Express</td>\n",
              "      <td>(2017)</td>\n",
              "      <td>6.5</td>\n",
              "      <td>52</td>\n",
              "      <td>208027</td>\n",
              "    </tr>\n",
              "    <tr>\n",
              "      <th>26</th>\n",
              "      <td>Life</td>\n",
              "      <td>(I) (2017)</td>\n",
              "      <td>6.6</td>\n",
              "      <td>54</td>\n",
              "      <td>204469</td>\n",
              "    </tr>\n",
              "    <tr>\n",
              "      <th>27</th>\n",
              "      <td>Call Me by Your Name</td>\n",
              "      <td>(2017)</td>\n",
              "      <td>7.9</td>\n",
              "      <td>93</td>\n",
              "      <td>203889</td>\n",
              "    </tr>\n",
              "    <tr>\n",
              "      <th>28</th>\n",
              "      <td>The Fate of the Furious</td>\n",
              "      <td>(2017)</td>\n",
              "      <td>6.7</td>\n",
              "      <td>56</td>\n",
              "      <td>201153</td>\n",
              "    </tr>\n",
              "    <tr>\n",
              "      <th>29</th>\n",
              "      <td>Wind River</td>\n",
              "      <td>(2017)</td>\n",
              "      <td>7.7</td>\n",
              "      <td>73</td>\n",
              "      <td>197878</td>\n",
              "    </tr>\n",
              "    <tr>\n",
              "      <th>30</th>\n",
              "      <td>Ghost in the Shell</td>\n",
              "      <td>(2017)</td>\n",
              "      <td>6.3</td>\n",
              "      <td>52</td>\n",
              "      <td>192903</td>\n",
              "    </tr>\n",
              "    <tr>\n",
              "      <th>31</th>\n",
              "      <td>King Arthur: Legend of the Sword</td>\n",
              "      <td>(2017)</td>\n",
              "      <td>6.7</td>\n",
              "      <td>41</td>\n",
              "      <td>188778</td>\n",
              "    </tr>\n",
              "    <tr>\n",
              "      <th>32</th>\n",
              "      <td>Mother!</td>\n",
              "      <td>(2017)</td>\n",
              "      <td>6.6</td>\n",
              "      <td>75</td>\n",
              "      <td>187325</td>\n",
              "    </tr>\n",
              "    <tr>\n",
              "      <th>33</th>\n",
              "      <td>The Hitman's Bodyguard</td>\n",
              "      <td>(2017)</td>\n",
              "      <td>6.9</td>\n",
              "      <td>47</td>\n",
              "      <td>182930</td>\n",
              "    </tr>\n",
              "    <tr>\n",
              "      <th>34</th>\n",
              "      <td>I, Tonya</td>\n",
              "      <td>(2017)</td>\n",
              "      <td>7.5</td>\n",
              "      <td>77</td>\n",
              "      <td>176499</td>\n",
              "    </tr>\n",
              "    <tr>\n",
              "      <th>35</th>\n",
              "      <td>Atomic Blonde</td>\n",
              "      <td>(2017)</td>\n",
              "      <td>6.7</td>\n",
              "      <td>63</td>\n",
              "      <td>172870</td>\n",
              "    </tr>\n",
              "    <tr>\n",
              "      <th>36</th>\n",
              "      <td>The Mummy</td>\n",
              "      <td>(2017)</td>\n",
              "      <td>5.4</td>\n",
              "      <td>34</td>\n",
              "      <td>170507</td>\n",
              "    </tr>\n",
              "    <tr>\n",
              "      <th>37</th>\n",
              "      <td>Darkest Hour</td>\n",
              "      <td>(2017)</td>\n",
              "      <td>7.4</td>\n",
              "      <td>75</td>\n",
              "      <td>168116</td>\n",
              "    </tr>\n",
              "    <tr>\n",
              "      <th>38</th>\n",
              "      <td>Bright</td>\n",
              "      <td>(I) (2017)</td>\n",
              "      <td>6.3</td>\n",
              "      <td>29</td>\n",
              "      <td>166137</td>\n",
              "    </tr>\n",
              "    <tr>\n",
              "      <th>39</th>\n",
              "      <td>Valerian and the City of a Thousand Planets</td>\n",
              "      <td>(2017)</td>\n",
              "      <td>6.5</td>\n",
              "      <td>51</td>\n",
              "      <td>159327</td>\n",
              "    </tr>\n",
              "    <tr>\n",
              "      <th>40</th>\n",
              "      <td>Baywatch</td>\n",
              "      <td>(2017)</td>\n",
              "      <td>5.5</td>\n",
              "      <td>37</td>\n",
              "      <td>157802</td>\n",
              "    </tr>\n",
              "    <tr>\n",
              "      <th>41</th>\n",
              "      <td>American Made</td>\n",
              "      <td>(2017)</td>\n",
              "      <td>7.2</td>\n",
              "      <td>65</td>\n",
              "      <td>155372</td>\n",
              "    </tr>\n",
              "  </tbody>\n",
              "</table>\n",
              "</div>"
            ],
            "text/plain": [
              "                                               movie  ...   votes\n",
              "0                                              Logan  ...  634540\n",
              "1                                     Thor: Ragnarok  ...  572574\n",
              "2                     Guardians of the Galaxy Vol. 2  ...  557001\n",
              "3            Star Wars: Episode VIII - The Last Jedi  ...  552826\n",
              "4                                       Wonder Woman  ...  540860\n",
              "5                                            Dunkirk  ...  540411\n",
              "6                             Spider-Man: Homecoming  ...  500073\n",
              "7                                            Get Out  ...  479984\n",
              "8                                                 It  ...  449432\n",
              "9                                  Blade Runner 2049  ...  448670\n",
              "10                                       Baby Driver  ...  428371\n",
              "11         Three Billboards Outside Ebbing, Missouri  ...  418497\n",
              "12                                    Justice League  ...  375370\n",
              "13                                The Shape of Water  ...  361819\n",
              "14                                              Coco  ...  361773\n",
              "15                              John Wick: Chapter 2  ...  356698\n",
              "16                    Jumanji: Welcome to the Jungle  ...  312498\n",
              "17                              Beauty and the Beast  ...  268020\n",
              "18                       Kingsman: The Golden Circle  ...  267000\n",
              "19                                Kong: Skull Island  ...  264164\n",
              "20  Pirates of the Caribbean: Dead Men Tell No Tales  ...  257541\n",
              "21                                   Alien: Covenant  ...  250490\n",
              "22                                         Lady Bird  ...  233801\n",
              "23                              The Greatest Showman  ...  230683\n",
              "24                    War for the Planet of the Apes  ...  224174\n",
              "25                      Murder on the Orient Express  ...  208027\n",
              "26                                              Life  ...  204469\n",
              "27                              Call Me by Your Name  ...  203889\n",
              "28                           The Fate of the Furious  ...  201153\n",
              "29                                        Wind River  ...  197878\n",
              "30                                Ghost in the Shell  ...  192903\n",
              "31                  King Arthur: Legend of the Sword  ...  188778\n",
              "32                                           Mother!  ...  187325\n",
              "33                            The Hitman's Bodyguard  ...  182930\n",
              "34                                          I, Tonya  ...  176499\n",
              "35                                     Atomic Blonde  ...  172870\n",
              "36                                         The Mummy  ...  170507\n",
              "37                                      Darkest Hour  ...  168116\n",
              "38                                            Bright  ...  166137\n",
              "39       Valerian and the City of a Thousand Planets  ...  159327\n",
              "40                                          Baywatch  ...  157802\n",
              "41                                     American Made  ...  155372\n",
              "\n",
              "[42 rows x 5 columns]"
            ]
          },
          "metadata": {
            "tags": []
          },
          "execution_count": 19
        }
      ]
    },
    {
      "cell_type": "markdown",
      "metadata": {
        "id": "CAim0sDmbhkr"
      },
      "source": [
        "## The script for multiple pages\n",
        "---\n",
        "Scraping multiple pages is a bit more challenging. We’ll build upon our one-page script by doing three more things:\n",
        "\n",
        "1. Making all the requests we want from within the loop.\n",
        "2. Controlling the loop’s rate to avoid bombarding the server with requests.\n",
        "3. Monitoring the loop while it runs.\n",
        "\n",
        "We’ll scrape the first 4 pages of each year in the interval 2000-2017. 4 pages for each of the 18 years makes for a total of 72 pages. Each page has 50 movies, so we’ll scrape data for 3600 movies at most. But not all the movies have a Metascore, so the number will be lower than that. Even so, we are still very likely to get data for over 2000 movies."
      ]
    },
    {
      "cell_type": "markdown",
      "metadata": {
        "id": "S121IJiGdFbJ"
      },
      "source": [
        "## Changing the URL’s parameters\n",
        "\n",
        "---\n",
        "\n",
        "As known earlier, the URLs follow a certain logic as the web pages change.\n",
        "\n",
        "\n",
        "As we are making the requests, we’ll only have to vary the values of only two parameters of the URL: the release_date parameter, and page. Let’s prepare the values we’ll need for the forthcoming loop. In the next code cell we will:\n",
        "\n",
        "1. Create a list called pages, and populate it with the strings corresponding to the first 4 pages.\n",
        "2. Create a list called years_url and populate it with the strings corresponding to the years 2000-2017."
      ]
    },
    {
      "cell_type": "code",
      "metadata": {
        "id": "ZXd-IuDddoNa"
      },
      "source": [
        "pages = [str(i) for i in range(1,5)]\n",
        "years_url = [str(i) for i in range(2000,2018)]"
      ],
      "execution_count": 20,
      "outputs": []
    },
    {
      "cell_type": "markdown",
      "metadata": {
        "id": "4uEadBCJd8fs"
      },
      "source": [
        "## Controlling the crawl-rate\n",
        "\n",
        "---\n",
        "\n",
        "\n",
        "Controlling the rate of crawling is beneficial for us, and for the website we are scraping. If we avoid hammering the server with tens of requests per second, then we are much less likely to get our IP address banned. We also avoid disrupting the activity of the website we scrape by allowing the server to respond to other users’ requests too.\n",
        "\n",
        "We’ll control the loop’s rate by using the *sleep*() function from Python’s time module. *sleep*() will pause the execution of the loop for a specified amount of seconds.\n",
        "\n",
        "To mimic human behavior, we’ll vary the amount of waiting time between requests by using the *randint*() function from the Python’s random module. *randint*() randomly generates integers within a specified interval."
      ]
    },
    {
      "cell_type": "code",
      "metadata": {
        "id": "hdOwDMoMRDKt",
        "outputId": "f2a680e0-daa1-48d8-8bb9-d5bd2361f1e4",
        "colab": {
          "base_uri": "https://localhost:8080/"
        }
      },
      "source": [
        "# Now coming to the complex part \n",
        "from time import sleep\n",
        "from random import randint\n",
        "from IPython.core.display import clear_output\n",
        "from time import time\n",
        "start_time = time()\n",
        "requests = 0\n",
        "for _ in range(5):\n",
        "# A request would go here\n",
        "    requests += 1\n",
        "    sleep(randint(1,3))\n",
        "    current_time = time()\n",
        "    elapsed_time = current_time - start_time\n",
        "    print('Request: {}; Frequency: {} requests/s'.format(requests, requests/elapsed_time))\n",
        "    # clears the last output of the loop to make it look clean\n",
        "    clear_output(wait = True)"
      ],
      "execution_count": 21,
      "outputs": [
        {
          "output_type": "stream",
          "text": [
            "Request: 5; Frequency: 0.6233384604679729 requests/s\n"
          ],
          "name": "stdout"
        }
      ]
    },
    {
      "cell_type": "code",
      "metadata": {
        "id": "ixo7E337TTOn",
        "outputId": "af3f1b75-3607-4238-dc5c-21c7202caadd",
        "colab": {
          "base_uri": "https://localhost:8080/"
        }
      },
      "source": [
        "from warnings import warn\n",
        "warn(\"Warning Simulation\")"
      ],
      "execution_count": 22,
      "outputs": [
        {
          "output_type": "stream",
          "text": [
            "/usr/local/lib/python3.6/dist-packages/ipykernel_launcher.py:2: UserWarning: Warning Simulation\n",
            "  \n"
          ],
          "name": "stderr"
        }
      ]
    },
    {
      "cell_type": "code",
      "metadata": {
        "id": "5vqUJwmYTxLz",
        "outputId": "e099d741-5feb-440b-fa54-e066f83171e5",
        "colab": {
          "base_uri": "https://localhost:8080/"
        }
      },
      "source": [
        "# Redeclaring the lists to store data in\n",
        "names = []\n",
        "years = []\n",
        "imdb_ratings = []\n",
        "metascores = []\n",
        "votes = []\n",
        "\n",
        "# Preparing the monitoring of the loop\n",
        "start_time = time()\n",
        "requests = 0\n",
        "pages = [str(i) for i in range(1,5)]\n",
        "years_url = [str(i) for i in range(2000,2018)]\n",
        "\n",
        "# For every year in the interval 2000-2017\n",
        "for year_url in years_url:\n",
        "\n",
        "    # For every page in the interval 1-4\n",
        "    for page in pages:\n",
        "\n",
        "        # Make a get request\n",
        "        response = get('http://www.imdb.com/search/title?release_date=' + year_url +\n",
        "        '&sort=num_votes,desc&page=' + page, headers = headers)\n",
        "\n",
        "        # Pause the loop\n",
        "        sleep(randint(8,15))\n",
        "\n",
        "        # Monitor the requests\n",
        "        requests += 1\n",
        "        elapsed_time = time() - start_time\n",
        "        print('Request:{}; Frequency: {} requests/s'.format(requests, requests/elapsed_time))\n",
        "        clear_output(wait = True)\n",
        "\n",
        "        # Throw a warning for non-200 status codes\n",
        "        if response.status_code != 200:\n",
        "            warn('Request: {}; Status code: {}'.format(requests, response.status_code))\n",
        "\n",
        "        # Break the loop if the number of requests is greater than expected\n",
        "        if requests > 72:\n",
        "            warn('Number of requests was greater than expected.')\n",
        "            break\n",
        "\n",
        "        # Parse the content of the request with BeautifulSoup\n",
        "        page_html = BeautifulSoup(response.text, 'html.parser')\n",
        "\n",
        "        # Select all the 50 movie containers from a single page\n",
        "        mv_containers = page_html.find_all('div', class_ = 'lister-item mode-advanced')\n",
        "\n",
        "        # For every movie of these 50\n",
        "        for container in mv_containers:\n",
        "            # If the movie has a Metascore, then:\n",
        "            if container.find('div', class_ = 'ratings-metascore') is not None:\n",
        "\n",
        "                # Scrape the name\n",
        "                name = container.h3.a.text\n",
        "                names.append(name)\n",
        "\n",
        "                # Scrape the year\n",
        "                year = container.h3.find('span', class_ = 'lister-item-year').text\n",
        "                years.append(year)\n",
        "\n",
        "                # Scrape the IMDB rating\n",
        "                imdb = float(container.strong.text)\n",
        "                imdb_ratings.append(imdb)\n",
        "\n",
        "                # Scrape the Metascore\n",
        "                m_score = container.find('span', class_ = 'metascore').text\n",
        "                metascores.append(int(m_score))\n",
        "\n",
        "                # Scrape the number of votes\n",
        "                vote = container.find('span', attrs = {'name':'nv'})['data-value']\n",
        "                votes.append(int(vote))"
      ],
      "execution_count": 23,
      "outputs": [
        {
          "output_type": "stream",
          "text": [
            "Request:72; Frequency: 0.07716923172208844 requests/s\n"
          ],
          "name": "stdout"
        }
      ]
    },
    {
      "cell_type": "code",
      "metadata": {
        "id": "nzd9QbgdaMUt",
        "outputId": "d82e5d41-eb91-4a96-cbb3-66b746359bfa",
        "colab": {
          "base_uri": "https://localhost:8080/",
          "height": 580
        }
      },
      "source": [
        "movie_ratings = pd.DataFrame({'movie': names,\n",
        "'year': years,\n",
        "'imdb': imdb_ratings,\n",
        "'metascore': metascores,\n",
        "'votes': votes\n",
        "})\n",
        "print(movie_ratings.info())\n",
        "movie_ratings.head(10)"
      ],
      "execution_count": 24,
      "outputs": [
        {
          "output_type": "stream",
          "text": [
            "<class 'pandas.core.frame.DataFrame'>\n",
            "RangeIndex: 3272 entries, 0 to 3271\n",
            "Data columns (total 5 columns):\n",
            " #   Column     Non-Null Count  Dtype  \n",
            "---  ------     --------------  -----  \n",
            " 0   movie      3272 non-null   object \n",
            " 1   year       3272 non-null   object \n",
            " 2   imdb       3272 non-null   float64\n",
            " 3   metascore  3272 non-null   int64  \n",
            " 4   votes      3272 non-null   int64  \n",
            "dtypes: float64(1), int64(2), object(2)\n",
            "memory usage: 127.9+ KB\n",
            "None\n"
          ],
          "name": "stdout"
        },
        {
          "output_type": "execute_result",
          "data": {
            "text/html": [
              "<div>\n",
              "<style scoped>\n",
              "    .dataframe tbody tr th:only-of-type {\n",
              "        vertical-align: middle;\n",
              "    }\n",
              "\n",
              "    .dataframe tbody tr th {\n",
              "        vertical-align: top;\n",
              "    }\n",
              "\n",
              "    .dataframe thead th {\n",
              "        text-align: right;\n",
              "    }\n",
              "</style>\n",
              "<table border=\"1\" class=\"dataframe\">\n",
              "  <thead>\n",
              "    <tr style=\"text-align: right;\">\n",
              "      <th></th>\n",
              "      <th>movie</th>\n",
              "      <th>year</th>\n",
              "      <th>imdb</th>\n",
              "      <th>metascore</th>\n",
              "      <th>votes</th>\n",
              "    </tr>\n",
              "  </thead>\n",
              "  <tbody>\n",
              "    <tr>\n",
              "      <th>0</th>\n",
              "      <td>Gladiator</td>\n",
              "      <td>(2000)</td>\n",
              "      <td>8.5</td>\n",
              "      <td>67</td>\n",
              "      <td>1319361</td>\n",
              "    </tr>\n",
              "    <tr>\n",
              "      <th>1</th>\n",
              "      <td>Memento</td>\n",
              "      <td>(2000)</td>\n",
              "      <td>8.4</td>\n",
              "      <td>80</td>\n",
              "      <td>1109006</td>\n",
              "    </tr>\n",
              "    <tr>\n",
              "      <th>2</th>\n",
              "      <td>Snatch</td>\n",
              "      <td>(2000)</td>\n",
              "      <td>8.3</td>\n",
              "      <td>55</td>\n",
              "      <td>771871</td>\n",
              "    </tr>\n",
              "    <tr>\n",
              "      <th>3</th>\n",
              "      <td>Requiem for a Dream</td>\n",
              "      <td>(2000)</td>\n",
              "      <td>8.3</td>\n",
              "      <td>68</td>\n",
              "      <td>755060</td>\n",
              "    </tr>\n",
              "    <tr>\n",
              "      <th>4</th>\n",
              "      <td>X-Men</td>\n",
              "      <td>(2000)</td>\n",
              "      <td>7.4</td>\n",
              "      <td>64</td>\n",
              "      <td>565014</td>\n",
              "    </tr>\n",
              "    <tr>\n",
              "      <th>5</th>\n",
              "      <td>Cast Away</td>\n",
              "      <td>(2000)</td>\n",
              "      <td>7.8</td>\n",
              "      <td>73</td>\n",
              "      <td>515008</td>\n",
              "    </tr>\n",
              "    <tr>\n",
              "      <th>6</th>\n",
              "      <td>American Psycho</td>\n",
              "      <td>(2000)</td>\n",
              "      <td>7.6</td>\n",
              "      <td>64</td>\n",
              "      <td>479883</td>\n",
              "    </tr>\n",
              "    <tr>\n",
              "      <th>7</th>\n",
              "      <td>Unbreakable</td>\n",
              "      <td>(2000)</td>\n",
              "      <td>7.3</td>\n",
              "      <td>62</td>\n",
              "      <td>382414</td>\n",
              "    </tr>\n",
              "    <tr>\n",
              "      <th>8</th>\n",
              "      <td>Mission: Impossible II</td>\n",
              "      <td>(2000)</td>\n",
              "      <td>6.1</td>\n",
              "      <td>59</td>\n",
              "      <td>310763</td>\n",
              "    </tr>\n",
              "    <tr>\n",
              "      <th>9</th>\n",
              "      <td>Meet the Parents</td>\n",
              "      <td>(2000)</td>\n",
              "      <td>7.0</td>\n",
              "      <td>73</td>\n",
              "      <td>308023</td>\n",
              "    </tr>\n",
              "  </tbody>\n",
              "</table>\n",
              "</div>"
            ],
            "text/plain": [
              "                    movie    year  imdb  metascore    votes\n",
              "0               Gladiator  (2000)   8.5         67  1319361\n",
              "1                 Memento  (2000)   8.4         80  1109006\n",
              "2                  Snatch  (2000)   8.3         55   771871\n",
              "3     Requiem for a Dream  (2000)   8.3         68   755060\n",
              "4                   X-Men  (2000)   7.4         64   565014\n",
              "5               Cast Away  (2000)   7.8         73   515008\n",
              "6         American Psycho  (2000)   7.6         64   479883\n",
              "7             Unbreakable  (2000)   7.3         62   382414\n",
              "8  Mission: Impossible II  (2000)   6.1         59   310763\n",
              "9        Meet the Parents  (2000)   7.0         73   308023"
            ]
          },
          "metadata": {
            "tags": []
          },
          "execution_count": 24
        }
      ]
    },
    {
      "cell_type": "code",
      "metadata": {
        "id": "9srEi9vCabuz",
        "outputId": "6dc80ce9-5584-47b6-d5d7-93e7094beb49",
        "colab": {
          "base_uri": "https://localhost:8080/",
          "height": 204
        }
      },
      "source": [
        "movie_ratings = movie_ratings[['movie', 'year', 'imdb', 'metascore', 'votes']]\n",
        "movie_ratings.head()"
      ],
      "execution_count": 25,
      "outputs": [
        {
          "output_type": "execute_result",
          "data": {
            "text/html": [
              "<div>\n",
              "<style scoped>\n",
              "    .dataframe tbody tr th:only-of-type {\n",
              "        vertical-align: middle;\n",
              "    }\n",
              "\n",
              "    .dataframe tbody tr th {\n",
              "        vertical-align: top;\n",
              "    }\n",
              "\n",
              "    .dataframe thead th {\n",
              "        text-align: right;\n",
              "    }\n",
              "</style>\n",
              "<table border=\"1\" class=\"dataframe\">\n",
              "  <thead>\n",
              "    <tr style=\"text-align: right;\">\n",
              "      <th></th>\n",
              "      <th>movie</th>\n",
              "      <th>year</th>\n",
              "      <th>imdb</th>\n",
              "      <th>metascore</th>\n",
              "      <th>votes</th>\n",
              "    </tr>\n",
              "  </thead>\n",
              "  <tbody>\n",
              "    <tr>\n",
              "      <th>0</th>\n",
              "      <td>Gladiator</td>\n",
              "      <td>(2000)</td>\n",
              "      <td>8.5</td>\n",
              "      <td>67</td>\n",
              "      <td>1319361</td>\n",
              "    </tr>\n",
              "    <tr>\n",
              "      <th>1</th>\n",
              "      <td>Memento</td>\n",
              "      <td>(2000)</td>\n",
              "      <td>8.4</td>\n",
              "      <td>80</td>\n",
              "      <td>1109006</td>\n",
              "    </tr>\n",
              "    <tr>\n",
              "      <th>2</th>\n",
              "      <td>Snatch</td>\n",
              "      <td>(2000)</td>\n",
              "      <td>8.3</td>\n",
              "      <td>55</td>\n",
              "      <td>771871</td>\n",
              "    </tr>\n",
              "    <tr>\n",
              "      <th>3</th>\n",
              "      <td>Requiem for a Dream</td>\n",
              "      <td>(2000)</td>\n",
              "      <td>8.3</td>\n",
              "      <td>68</td>\n",
              "      <td>755060</td>\n",
              "    </tr>\n",
              "    <tr>\n",
              "      <th>4</th>\n",
              "      <td>X-Men</td>\n",
              "      <td>(2000)</td>\n",
              "      <td>7.4</td>\n",
              "      <td>64</td>\n",
              "      <td>565014</td>\n",
              "    </tr>\n",
              "  </tbody>\n",
              "</table>\n",
              "</div>"
            ],
            "text/plain": [
              "                 movie    year  imdb  metascore    votes\n",
              "0            Gladiator  (2000)   8.5         67  1319361\n",
              "1              Memento  (2000)   8.4         80  1109006\n",
              "2               Snatch  (2000)   8.3         55   771871\n",
              "3  Requiem for a Dream  (2000)   8.3         68   755060\n",
              "4                X-Men  (2000)   7.4         64   565014"
            ]
          },
          "metadata": {
            "tags": []
          },
          "execution_count": 25
        }
      ]
    },
    {
      "cell_type": "code",
      "metadata": {
        "id": "dlaov7irag7m",
        "outputId": "2510a230-a5c9-4c59-f141-7bc4f679ce8d",
        "colab": {
          "base_uri": "https://localhost:8080/"
        }
      },
      "source": [
        "# prints unique data for years coloumn\n",
        "movie_ratings['year'].unique()"
      ],
      "execution_count": 26,
      "outputs": [
        {
          "output_type": "execute_result",
          "data": {
            "text/plain": [
              "array(['(2000)', '(I) (2000)', '(2001)', '(2002)', '(2003)', '(2004)',\n",
              "       '(I) (2004)', '(2005)', '(I) (2005)', '(2006)', '(I) (2006)',\n",
              "       '(2007)', '(I) (2007)', '(2008)', '(I) (2008)', '(2009)',\n",
              "       '(I) (2009)', '(2010)', '(I) (2010)', '(2011)', '(I) (2011)',\n",
              "       '(2012)', '(I) (2012)', '(2013)', '(I) (2013)', '(2014)',\n",
              "       '(I) (2014)', '(II) (2014)', '(2015)', '(I) (2015)', '(II) (2015)',\n",
              "       '(2016)', '(II) (2016)', '(IX) (2016)', '(I) (2016)', '(2017)',\n",
              "       '(I) (2017)'], dtype=object)"
            ]
          },
          "metadata": {
            "tags": []
          },
          "execution_count": 26
        }
      ]
    },
    {
      "cell_type": "code",
      "metadata": {
        "id": "h8v8xFU2at9i"
      },
      "source": [
        "# processing year coloumn for better visualization\n",
        "movie_ratings.loc[:, 'year'] = movie_ratings['year'].str[-5:-1].astype(int)"
      ],
      "execution_count": 27,
      "outputs": []
    },
    {
      "cell_type": "code",
      "metadata": {
        "id": "2ON6gv34axaD",
        "outputId": "1e5cbddf-ff2c-4af7-db86-cd4b20c5ca51",
        "colab": {
          "base_uri": "https://localhost:8080/"
        }
      },
      "source": [
        "movie_ratings['year'].head(3)"
      ],
      "execution_count": 28,
      "outputs": [
        {
          "output_type": "execute_result",
          "data": {
            "text/plain": [
              "0    2000\n",
              "1    2000\n",
              "2    2000\n",
              "Name: year, dtype: int64"
            ]
          },
          "metadata": {
            "tags": []
          },
          "execution_count": 28
        }
      ]
    },
    {
      "cell_type": "code",
      "metadata": {
        "id": "SNaZz-LIb3He",
        "outputId": "d39d31eb-b6a8-40eb-a042-5799732585be",
        "colab": {
          "base_uri": "https://localhost:8080/",
          "height": 111
        }
      },
      "source": [
        "movie_ratings.describe().loc[['min', 'max'], ['imdb', 'metascore']]"
      ],
      "execution_count": 29,
      "outputs": [
        {
          "output_type": "execute_result",
          "data": {
            "text/html": [
              "<div>\n",
              "<style scoped>\n",
              "    .dataframe tbody tr th:only-of-type {\n",
              "        vertical-align: middle;\n",
              "    }\n",
              "\n",
              "    .dataframe tbody tr th {\n",
              "        vertical-align: top;\n",
              "    }\n",
              "\n",
              "    .dataframe thead th {\n",
              "        text-align: right;\n",
              "    }\n",
              "</style>\n",
              "<table border=\"1\" class=\"dataframe\">\n",
              "  <thead>\n",
              "    <tr style=\"text-align: right;\">\n",
              "      <th></th>\n",
              "      <th>imdb</th>\n",
              "      <th>metascore</th>\n",
              "    </tr>\n",
              "  </thead>\n",
              "  <tbody>\n",
              "    <tr>\n",
              "      <th>min</th>\n",
              "      <td>4.1</td>\n",
              "      <td>24.0</td>\n",
              "    </tr>\n",
              "    <tr>\n",
              "      <th>max</th>\n",
              "      <td>9.0</td>\n",
              "      <td>100.0</td>\n",
              "    </tr>\n",
              "  </tbody>\n",
              "</table>\n",
              "</div>"
            ],
            "text/plain": [
              "     imdb  metascore\n",
              "min   4.1       24.0\n",
              "max   9.0      100.0"
            ]
          },
          "metadata": {
            "tags": []
          },
          "execution_count": 29
        }
      ]
    },
    {
      "cell_type": "code",
      "metadata": {
        "id": "nKdETJmGb_Id",
        "outputId": "9c988d58-8250-4b28-814c-81edb070d7e4",
        "colab": {
          "base_uri": "https://localhost:8080/",
          "height": 142
        }
      },
      "source": [
        "# Normalizing the IMDb coloumn for comparision with metascore\n",
        "movie_ratings['n_imdb'] = movie_ratings['imdb'] * 10\n",
        "movie_ratings.head(3)"
      ],
      "execution_count": 30,
      "outputs": [
        {
          "output_type": "execute_result",
          "data": {
            "text/html": [
              "<div>\n",
              "<style scoped>\n",
              "    .dataframe tbody tr th:only-of-type {\n",
              "        vertical-align: middle;\n",
              "    }\n",
              "\n",
              "    .dataframe tbody tr th {\n",
              "        vertical-align: top;\n",
              "    }\n",
              "\n",
              "    .dataframe thead th {\n",
              "        text-align: right;\n",
              "    }\n",
              "</style>\n",
              "<table border=\"1\" class=\"dataframe\">\n",
              "  <thead>\n",
              "    <tr style=\"text-align: right;\">\n",
              "      <th></th>\n",
              "      <th>movie</th>\n",
              "      <th>year</th>\n",
              "      <th>imdb</th>\n",
              "      <th>metascore</th>\n",
              "      <th>votes</th>\n",
              "      <th>n_imdb</th>\n",
              "    </tr>\n",
              "  </thead>\n",
              "  <tbody>\n",
              "    <tr>\n",
              "      <th>0</th>\n",
              "      <td>Gladiator</td>\n",
              "      <td>2000</td>\n",
              "      <td>8.5</td>\n",
              "      <td>67</td>\n",
              "      <td>1319361</td>\n",
              "      <td>85.0</td>\n",
              "    </tr>\n",
              "    <tr>\n",
              "      <th>1</th>\n",
              "      <td>Memento</td>\n",
              "      <td>2000</td>\n",
              "      <td>8.4</td>\n",
              "      <td>80</td>\n",
              "      <td>1109006</td>\n",
              "      <td>84.0</td>\n",
              "    </tr>\n",
              "    <tr>\n",
              "      <th>2</th>\n",
              "      <td>Snatch</td>\n",
              "      <td>2000</td>\n",
              "      <td>8.3</td>\n",
              "      <td>55</td>\n",
              "      <td>771871</td>\n",
              "      <td>83.0</td>\n",
              "    </tr>\n",
              "  </tbody>\n",
              "</table>\n",
              "</div>"
            ],
            "text/plain": [
              "       movie  year  imdb  metascore    votes  n_imdb\n",
              "0  Gladiator  2000   8.5         67  1319361    85.0\n",
              "1    Memento  2000   8.4         80  1109006    84.0\n",
              "2     Snatch  2000   8.3         55   771871    83.0"
            ]
          },
          "metadata": {
            "tags": []
          },
          "execution_count": 30
        }
      ]
    },
    {
      "cell_type": "code",
      "metadata": {
        "id": "jlCqEH4hcHJT",
        "outputId": "d6adb14d-64d8-4beb-eb37-5792ee66fdc4",
        "colab": {
          "base_uri": "https://localhost:8080/",
          "height": 17
        }
      },
      "source": [
        "# downloading the dataframe as CSV file for further use\n",
        "from google.colab import files\n",
        "\n",
        "movie_ratings.to_csv('movie_ratings.csv')\n",
        "files.download('movie_ratings.csv')"
      ],
      "execution_count": 32,
      "outputs": [
        {
          "output_type": "display_data",
          "data": {
            "application/javascript": [
              "\n",
              "    async function download(id, filename, size) {\n",
              "      if (!google.colab.kernel.accessAllowed) {\n",
              "        return;\n",
              "      }\n",
              "      const div = document.createElement('div');\n",
              "      const label = document.createElement('label');\n",
              "      label.textContent = `Downloading \"${filename}\": `;\n",
              "      div.appendChild(label);\n",
              "      const progress = document.createElement('progress');\n",
              "      progress.max = size;\n",
              "      div.appendChild(progress);\n",
              "      document.body.appendChild(div);\n",
              "\n",
              "      const buffers = [];\n",
              "      let downloaded = 0;\n",
              "\n",
              "      const channel = await google.colab.kernel.comms.open(id);\n",
              "      // Send a message to notify the kernel that we're ready.\n",
              "      channel.send({})\n",
              "\n",
              "      for await (const message of channel.messages) {\n",
              "        // Send a message to notify the kernel that we're ready.\n",
              "        channel.send({})\n",
              "        if (message.buffers) {\n",
              "          for (const buffer of message.buffers) {\n",
              "            buffers.push(buffer);\n",
              "            downloaded += buffer.byteLength;\n",
              "            progress.value = downloaded;\n",
              "          }\n",
              "        }\n",
              "      }\n",
              "      const blob = new Blob(buffers, {type: 'application/binary'});\n",
              "      const a = document.createElement('a');\n",
              "      a.href = window.URL.createObjectURL(blob);\n",
              "      a.download = filename;\n",
              "      div.appendChild(a);\n",
              "      a.click();\n",
              "      div.remove();\n",
              "    }\n",
              "  "
            ],
            "text/plain": [
              "<IPython.core.display.Javascript object>"
            ]
          },
          "metadata": {
            "tags": []
          }
        },
        {
          "output_type": "display_data",
          "data": {
            "application/javascript": [
              "download(\"download_a94298bd-b8c5-4a70-98cc-cd70f89cbc8b\", \"movie_ratings.csv\", 148722)"
            ],
            "text/plain": [
              "<IPython.core.display.Javascript object>"
            ]
          },
          "metadata": {
            "tags": []
          }
        }
      ]
    },
    {
      "cell_type": "code",
      "metadata": {
        "id": "lrZZVZpucPF9",
        "outputId": "970d49c6-a40a-4533-d545-018b36a3ddb4",
        "colab": {
          "base_uri": "https://localhost:8080/",
          "height": 298
        }
      },
      "source": [
        "# visualizing the obtained result after normalization\n",
        "import matplotlib.pyplot as plt\n",
        "\n",
        "fig, axes = plt.subplots(nrows = 1, ncols = 3, figsize = (16,4))\n",
        "ax1, ax2, ax3 = fig.axes\n",
        "ax1.hist(movie_ratings['imdb'], bins = 10, range = (0,10)) # bin range = 1\n",
        "ax1.set_title('IMDB rating')\n",
        "ax2.hist(movie_ratings['metascore'], bins = 10, range = (0,100)) # bin range = 10\n",
        "ax2.set_title('Metascore')\n",
        "ax3.hist(movie_ratings['n_imdb'], bins = 10, range = (0,100), histtype = 'step')\n",
        "ax3.hist(movie_ratings['metascore'], bins = 10, range = (0,100), histtype = 'step')\n",
        "ax3.legend(loc = 'upper left')\n",
        "ax3.set_title('The Two Normalized Distributions')\n",
        "for ax in fig.axes:\n",
        "    ax.spines['top'].set_visible(False)\n",
        "    ax.spines['right'].set_visible(False)\n",
        "plt.show()"
      ],
      "execution_count": 33,
      "outputs": [
        {
          "output_type": "stream",
          "text": [
            "No handles with labels found to put in legend.\n"
          ],
          "name": "stderr"
        },
        {
          "output_type": "display_data",
          "data": {
            "image/png": "[encoded data removed]",
            "text/plain": [
              "<Figure size 1152x288 with 3 Axes>"
            ]
          },
          "metadata": {
            "tags": [],
            "needs_background": "light"
          }
        }
      ]
    }
  ]
}